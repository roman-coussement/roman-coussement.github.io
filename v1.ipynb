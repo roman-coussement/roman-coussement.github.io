{
 "cells": [
  {
   "cell_type": "code",
   "execution_count": 1,
   "metadata": {},
   "outputs": [
    {
     "name": "stdout",
     "output_type": "stream",
     "text": [
      "[[4, 5, 6, 5, 9], [1, 3, 4, 0, 9], [3, 6, 5, 9, 1], [0, 3, 8, 4, 7], [8, 9, 2, 6, 0]]\n",
      "[9, 3, 7, 7, 4]\n",
      "[[1], [5], [8], [6], [1]]\n"
     ]
    }
   ],
   "source": [
    "import random\n",
    "\n",
    "def row_matrix(size):\n",
    "    matrix = []\n",
    "    for i in range(size):\n",
    "        matrix.append(random.randint(0, 9))\n",
    "    return matrix\n",
    "\n",
    "def col_matrix(size):\n",
    "    matrix = [[random.randint(0,9)] for i in range(size)]\n",
    "    return matrix\n",
    "\n",
    "def sq_matrix(size):\n",
    "    matrix = [[] for i in range(size)]\n",
    "    for l in matrix:\n",
    "        for i in range(size):\n",
    "            matrix[i].append(random.randint(0, 9))\n",
    "    return matrix\n",
    "\n",
    "size = 5\n",
    "\n",
    "print(sq_matrix(size))\n",
    "print(row_matrix(size))\n",
    "print(col_matrix(size))"
   ]
  },
  {
   "cell_type": "code",
   "execution_count": null,
   "metadata": {},
   "outputs": [],
   "source": []
  }
 ],
 "metadata": {
  "kernelspec": {
   "display_name": "Python 3",
   "language": "python",
   "name": "python3"
  },
  "language_info": {
   "codemirror_mode": {
    "name": "ipython",
    "version": 3
   },
   "file_extension": ".py",
   "mimetype": "text/x-python",
   "name": "python",
   "nbconvert_exporter": "python",
   "pygments_lexer": "ipython3",
   "version": "3.8.5"
  }
 },
 "nbformat": 4,
 "nbformat_minor": 4
}

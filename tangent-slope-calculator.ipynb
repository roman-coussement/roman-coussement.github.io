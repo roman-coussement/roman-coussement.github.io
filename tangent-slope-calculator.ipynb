{
 "cells": [
  {
   "cell_type": "markdown",
   "metadata": {},
   "source": [
    "# Tangent Slope Calculator\n",
    "\n",
    "This program allows the user to define a univariate function and provide a given x-value. The program will then approximate the derivative at that point i.e. the slope of the tangent to that function at the value x.\n",
    "\n",
    "This is done using using the well-known formula for the limit of a derivative formula below:\n",
    "\n",
    "<p style=\"text-align:center\">$f'(x)=\\displaystyle \\lim_{h\\to 0}\\frac{f(x+h)-f(x)}{h}$<p>\n",
    "    \n",
    "First the user inputs their desired function and x-value, in this case:\n",
    "\n",
    "<p style=\"text-align:center\">$f(x)=12x^3$<p>\n",
    "and\n",
    "<p style=\"text-align:center\">$x=3$<p>\n",
    "\n",
    "Giving:"
   ]
  },
  {
   "cell_type": "code",
   "execution_count": 2,
   "metadata": {},
   "outputs": [],
   "source": [
    "def f(x):\n",
    "    return 12 * x ** 3\n",
    "\n",
    "\n",
    "x = 3"
   ]
  },
  {
   "cell_type": "markdown",
   "metadata": {},
   "source": [
    "Next, we define another function that takes the given x-value as an input, and contains a value of *h* that is intended to represent *h* tending to zero, then combining both of these with the above function and formula for a derivative to return our answer. Our value for the slope is rounded as this is only an approximation."
   ]
  },
  {
   "cell_type": "code",
   "execution_count": 3,
   "metadata": {},
   "outputs": [],
   "source": [
    "def derive(x):\n",
    "    h = 0.000000001\n",
    "    slope = (f(x+h) - f(x)) / h\n",
    "    return float(\"%.3f\" % slope)"
   ]
  },
  {
   "cell_type": "markdown",
   "metadata": {},
   "source": [
    "Finally, we can execute our function and print the result:"
   ]
  },
  {
   "cell_type": "code",
   "execution_count": 4,
   "metadata": {},
   "outputs": [
    {
     "name": "stdout",
     "output_type": "stream",
     "text": [
      "324.0\n"
     ]
    }
   ],
   "source": [
    "print(derive(x))"
   ]
  },
  {
   "cell_type": "markdown",
   "metadata": {},
   "source": [
    "We see that the function produces the expected result."
   ]
  },
  {
   "cell_type": "code",
   "execution_count": null,
   "metadata": {},
   "outputs": [],
   "source": []
  }
 ],
 "metadata": {
  "kernelspec": {
   "display_name": "Python 3",
   "language": "python",
   "name": "python3"
  },
  "language_info": {
   "codemirror_mode": {
    "name": "ipython",
    "version": 3
   },
   "file_extension": ".py",
   "mimetype": "text/x-python",
   "name": "python",
   "nbconvert_exporter": "python",
   "pygments_lexer": "ipython3",
   "version": "3.8.5"
  }
 },
 "nbformat": 4,
 "nbformat_minor": 4
}

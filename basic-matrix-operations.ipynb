{
 "cells": [
  {
   "cell_type": "markdown",
   "metadata": {},
   "source": [
    "# Basic Matrix Operations\n",
    "\n",
    "## Overview\n",
    "\n",
    "Within linear algebra there are a number of operations that are exclusive to matrices: matrix multiplication, dot product, inversion, transposition, and more. However, there are also three operations that more or less mirror there counterpart within regular number operations: addition, subtraction, and multiplication. In this notebook I give a brief background and formal definition of the relevant operations before proceeding with an implementation in Python. It's worth noting that functions representing these operations are already provided as part of the NumPy package, this notebook is simply meant to demonstrate an understanding of the maths and an ability to implement using fundamental concepts in Python.\n",
    "\n",
    "## Theoretical Background\n",
    "\n",
    "### Matrix Addition & Subtraction\n",
    "\n",
    "For these matrix operations, we simply add or subtract respectively, one matrix from the other, element-wise. The only condition here is that - for their sum or difference to be defined - the given matrices must have and equal number of rows *and* columns. As such, given matrices $A$ and $B$, whereby:\n",
    "<p style=\"text-align:center\">$A = \\begin{bmatrix}\n",
    " a_{11}&a_{12}&\\cdots&a_{1n} \\\\ \n",
    " a_{21}&a_{22}&\\cdots&a_{2n} \\\\ \n",
    " \\vdots&\\vdots&\\ddots&\\vdots \\\\ \n",
    " a_{m1}&a_{m2}&\\cdots&a_{mn} \n",
    "\\end{bmatrix}\n",
    "B = \\begin{bmatrix}\n",
    " b_{11}&b_{12}&\\cdots&b_{1n} \\\\ \n",
    " b_{21}&b_{22}&\\cdots&b_{2n} \\\\ \n",
    " \\vdots&\\vdots&\\ddots&\\vdots \\\\ \n",
    " b_{m1}&b_{m2}&\\cdots&b_{mn} \n",
    "\\end{bmatrix}$</p>\n",
    "Resulting in the following expression for addition:\n",
    "<p style=\"text-align:center\">$A+B =  \\begin{bmatrix}\n",
    " a_{11}+b_{11}&a_{12}+b_{12}&\\cdots&a_{1n}+b_{11} \\\\ \n",
    " a_{21}+b_{21}&a_{22}+b_{22}&\\cdots&a_{2n}+b_{11} \\\\ \n",
    " \\vdots&\\vdots&\\ddots&\\vdots \\\\ \n",
    " a_{m1}+b_{m1}&a_{m2}+b_{m2}&\\cdots&a_{mn}+a_{mn} \n",
    "\\end{bmatrix}$</p>\n",
    "And the folowigng expression for subtraction:\n",
    "<p style=\"text-align:center\">$A-B =  \\begin{bmatrix}\n",
    " a_{11}-b_{11}&a_{12}-b_{12}&\\cdots&a_{1n}-b_{11} \\\\ \n",
    " a_{21}-b_{21}&a_{22}-b_{22}&\\cdots&a_{2n}-b_{11} \\\\ \n",
    " \\vdots&\\vdots&\\ddots&\\vdots \\\\ \n",
    " a_{m1}-b_{m1}&a_{m2}-b_{m2}&\\cdots&a_{mn}-a_{mn} \n",
    "\\end{bmatrix}$</p>\n",
    "\n",
    "### Scalar Multiplication\n",
    "\n",
    "Similarly to addition and subtraction, given a matrix $A$ and a scalar $\\mathbf{x}$ we define the following expression:\n",
    "\n",
    "<p style=\"text-align:center\">$A\\mathbf{x} =  \\begin{bmatrix}\n",
    " \\mathbf{x}a_{11}&\\mathbf{x}a_{12}&\\cdots&\\mathbf{x}a_{1n} \\\\ \n",
    " \\mathbf{x}a_{21}&\\mathbf{x}a_{22}&\\cdots&\\mathbf{x}a_{2n} \\\\ \n",
    " \\vdots&\\vdots&\\ddots&\\vdots \\\\ \n",
    " \\mathbf{x}a_{m1}&\\mathbf{x}a_{m2}&\\cdots&\\mathbf{x}a_{mn} \n",
    "\\end{bmatrix}$</p>\n",
    "\n",
    "## Implementation\n",
    "\n",
    "### Addition & Subtraction\n",
    "\n",
    "We begin with the implementation of addition and subtraction:"
   ]
  },
  {
   "cell_type": "code",
   "execution_count": 7,
   "metadata": {},
   "outputs": [],
   "source": [
    "def matrix_add(mat_1, mat_2):\n",
    "    len_subs_mat_1 = [len(x) for x in mat_1]  # checks rows and columns of each matrix\n",
    "    len_subs_mat_2 = [len(x) for x in mat_2]\n",
    "\n",
    "    if len_subs_mat_1 == len_subs_mat_2:  # checks that rows and columns are equal in each matrix\n",
    "\n",
    "        add_result = []  # empty list for final matrix\n",
    "        flat_mat_add = []  # empty list for subtraction of flattened matrices\n",
    "\n",
    "        flat_mat_1 = [item for sublist in mat_1 for item in sublist]  # list comp to flatten matrix\n",
    "        flat_mat_2 = [item for sublist in mat_2 for item in sublist]\n",
    "\n",
    "        for i in range(len(flat_mat_1)):  # for loop to subtract items in two lists\n",
    "            item = flat_mat_1[i] + flat_mat_2[i]\n",
    "            flat_mat_add.append(item)\n",
    "\n",
    "        for i in range(0, len(flat_mat_1), len(mat_1[0])):  # chunk list into array format\n",
    "            add_result.append(flat_mat_add[i:i + len(mat_1[0])])\n",
    "\n",
    "        return add_result\n",
    "\n",
    "    else:\n",
    "        print(\"Matrices must have equal number of rows and columns\")"
   ]
  },
  {
   "cell_type": "markdown",
   "metadata": {},
   "source": [
    "The above function takes two matrices supplied by the user, with no conditions on the length of the rows and columns other than that they be equal between the two matrices. This is verified by creating a list of numbers representing the length of each sublist in the given arrays; these two lists are then compared in an *if* statement which will produce a print statement if the condition is not satisfied - otherwise, the function proceeds.   \n",
    "   \n",
    "First, the function flattens out the matrices, taking a nested list and converting it into a simple list. Next, the lists are summed element-wise using a *for* loop. Finally, another for loop chunks the list according to the length of the sublists in the original matrix, thus returning it to its array form.   \n",
    "   \n",
    "This function is easily adapted into a subtraction function by subtracting one list from another, given below. Note that as subtraction is non-commutative, it matters in which order the user defines $mat\\_1$ and $mat\\_2$."
   ]
  },
  {
   "cell_type": "code",
   "execution_count": 8,
   "metadata": {},
   "outputs": [],
   "source": [
    "def matrix_subtract(mat_1, mat_2):\n",
    "    len_subs_mat_1 = [len(x) for x in mat_1]  # checks rows and columns of each matrix\n",
    "    len_subs_mat_2 = [len(x) for x in mat_2]\n",
    "\n",
    "    if len_subs_mat_1 == len_subs_mat_2:  # checks that rows and columns are equal in each matrix\n",
    "\n",
    "        sub_result = []  # empty list for final matrix\n",
    "        flat_mat_sub = []  # empty list for subtraction of flattened matrices\n",
    "\n",
    "        flat_mat_1 = [item for sublist in mat_1 for item in sublist]  # list comp to flatten matrix\n",
    "        flat_mat_2 = [item for sublist in mat_2 for item in sublist]\n",
    "\n",
    "        for i in range(len(flat_mat_1)):  # for loop to subtract items in two lists\n",
    "            item = flat_mat_1[i] - flat_mat_2[i]\n",
    "            flat_mat_sub.append(item)\n",
    "\n",
    "        for i in range(0, len(flat_mat_1), len(mat_1[0])):  # chunk list into array format\n",
    "            sub_result.append(flat_mat_sub[i:i + len(mat_1[0])])\n",
    "\n",
    "        return sub_result\n",
    "\n",
    "    else:\n",
    "        print(\"Matrices must have equal number of rows and columns\")"
   ]
  },
  {
   "cell_type": "markdown",
   "metadata": {},
   "source": [
    "We verify each of the above functions by defining two matrices and supplying them to the functions:"
   ]
  },
  {
   "cell_type": "code",
   "execution_count": 9,
   "metadata": {},
   "outputs": [
    {
     "name": "stdout",
     "output_type": "stream",
     "text": [
      "[[2, 4, 2], [5, 2, 3], [4, 4, 6]]\n",
      "[[0, 2, 0], [3, 0, 1], [2, 2, 4]]\n"
     ]
    }
   ],
   "source": [
    "mat_1 = [[1, 3, 1], [4, 1, 2], [3, 3, 5]]\n",
    "mat_2 = [[1, 1, 1], [1, 1, 1], [1, 1, 1]]\n",
    "\n",
    "print(matrix_add(mat_1, mat_2))\n",
    "print(matrix_subtract(mat_1, mat_2))"
   ]
  },
  {
   "cell_type": "markdown",
   "metadata": {},
   "source": [
    "We see that both functions produce the expected results.\n",
    "\n",
    "### Scalar Multiplication\n",
    "\n",
    "We implement scalar multiplication using the below function:"
   ]
  },
  {
   "cell_type": "code",
   "execution_count": 10,
   "metadata": {},
   "outputs": [],
   "source": [
    "def scalar_multiply(mat_1, scalar):\n",
    "    it = iter(mat_1)\n",
    "    the_len = len(next(it))\n",
    "\n",
    "    if all(len(l) == the_len for l in it):  # check that all lists are same length w/ exception\n",
    "\n",
    "        matMulti = []  # define empty list for multiples\n",
    "        sm_result = []  # define empty list for chunked list/result in array form\n",
    "\n",
    "        for i in mat_1:\n",
    "            for j in i:\n",
    "                matMulti.append(j * scalar)\n",
    "\n",
    "        for i in range(0, len(matMulti), len(mat_1[0])):\n",
    "            sm_result.append(matMulti[i:i + len(mat_1[0])])\n",
    "\n",
    "        return sm_result\n",
    "\n",
    "    else:\n",
    "        print(\"Matrix rows are not of equal length\")"
   ]
  },
  {
   "cell_type": "markdown",
   "metadata": {},
   "source": [
    "Again, there are no conditions on the overall size of the matrix, however the function does check that the length of each sublist within the array is of equal length so that the matrix is deemed to be properly defined, throwing an exception if this condition is not satisfied, otherwise proceeding with the function.   \n",
    "   \n",
    "First, the function defines two empty lists: one to be used temporarily for our multiplied values in a single-list format, another for our final list in array format. Next, the function uses a nested for loop in order to loop through every element of the matrix and multiply them by a scalar. As this produces a flattened list, we again use a for loop to chunk the list according to to the length of the sublists in the original matrix. This is stored in our final result list which is then returned by the function.   \n",
    "   \n",
    "The function is verified below:"
   ]
  },
  {
   "cell_type": "code",
   "execution_count": 11,
   "metadata": {},
   "outputs": [
    {
     "name": "stdout",
     "output_type": "stream",
     "text": [
      "[[3, 9, 3], [12, 3, 6], [9, 9, 15]]\n"
     ]
    }
   ],
   "source": [
    "mat_1 = [[1, 3, 1], [4, 1, 2], [3, 3, 5]]\n",
    "scalar = 3\n",
    "\n",
    "print(scalar_multiply(mat_1, scalar))"
   ]
  },
  {
   "cell_type": "markdown",
   "metadata": {},
   "source": [
    "Again, we see that the function produces the expected result."
   ]
  }
 ],
 "metadata": {
  "kernelspec": {
   "display_name": "Python 3",
   "language": "python",
   "name": "python3"
  },
  "language_info": {
   "codemirror_mode": {
    "name": "ipython",
    "version": 3
   },
   "file_extension": ".py",
   "mimetype": "text/x-python",
   "name": "python",
   "nbconvert_exporter": "python",
   "pygments_lexer": "ipython3",
   "version": "3.8.5"
  }
 },
 "nbformat": 4,
 "nbformat_minor": 4
}
